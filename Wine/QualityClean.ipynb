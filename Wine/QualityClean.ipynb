{
 "cells": [
  {
   "cell_type": "code",
   "execution_count": 503,
   "metadata": {},
   "outputs": [],
   "source": [
    "import pandas as pd\n",
    "import numpy as np\n",
    "import matplotlib.pyplot as plt\n",
    "import seaborn as sb\n",
    "from sklearn.pipeline import Pipeline\n",
    "from sklearn.preprocessing import PolynomialFeatures\n",
    "from sklearn.ensemble import RandomForestClassifier\n",
    "from sklearn.metrics import confusion_matrix\n",
    "from sklearn.model_selection import train_test_split, cross_val_score\n"
   ]
  },
  {
   "cell_type": "code",
   "execution_count": 504,
   "metadata": {},
   "outputs": [],
   "source": [
    "df = pd.read_csv('./data/WineQT.csv')\n",
    "df.set_index('Id')\n",
    "y_raw = df['quality']\n"
   ]
  },
  {
   "cell_type": "code",
   "execution_count": 505,
   "metadata": {},
   "outputs": [],
   "source": [
    "class TierColumnAdder:\n",
    "\n",
    "    def __init__(self, tier_col_name='quality'):\n",
    "        self.tier_col_name = tier_col_name\n",
    "\n",
    "    def fit(self, X, y=None):\n",
    "        return self\n",
    "\n",
    "    def transform(self, X):\n",
    "        series = X[self.tier_col_name]\n",
    "        self.avg_qual = series.mean()\n",
    "        self.top_tier = series.quantile(.95)\n",
    "        self.bottom_tier = series.quantile(.01)\n",
    "        self.min = series.min()\n",
    "        self.max = series.max()\n",
    "        above_avg = X[self.tier_col_name] >= self.avg_qual\n",
    "        top = X[self.tier_col_name] >= self.top_tier\n",
    "        bot = X[self.tier_col_name] <= self.bottom_tier\n",
    "        min = X[self.tier_col_name] == self.min\n",
    "        max = X[self.tier_col_name] == self.max\n",
    "        return X.assign(above_avg=above_avg, top_tier=top, bottom_tier=bot, worst=min, best=max)\n",
    "\n",
    "    def fit_transform(self, X, y=None, **fit_params):\n",
    "        self.fit(X)\n",
    "        return self.transform(X)\n"
   ]
  },
  {
   "cell_type": "code",
   "execution_count": 506,
   "metadata": {},
   "outputs": [],
   "source": [
    "class OneScaler:\n",
    "\n",
    "    def fit(self, X, y=None):\n",
    "        return self\n",
    "\n",
    "    def transform(self, X):\n",
    "        self.centered = X - X.mean()\n",
    "        self.v_min = self.centered.min().abs()\n",
    "        self.v_max = self.centered.max()\n",
    "        self.above_mean = self.centered >= 0\n",
    "        self.scaled_high = self.centered[self.above_mean] / self.v_max\n",
    "        self.scaled_low = self.centered[~self.above_mean] / self.v_min\n",
    "        self.combined = self.scaled_high.fillna(self.scaled_low)\n",
    "        return self.combined\n",
    "\n",
    "    def fit_transform(self, X, y=None, **fit_params):\n",
    "        self.fit(X, y)\n",
    "        return self.transform(X)\n"
   ]
  },
  {
   "cell_type": "code",
   "execution_count": 507,
   "metadata": {},
   "outputs": [],
   "source": [
    "class ColumnSelector:\n",
    "\n",
    "    def __init__(self, col_names):\n",
    "        self.col_names = col_names\n",
    "\n",
    "    def fit(self, X, y=None):\n",
    "        return self\n",
    "        \n",
    "    def transform(self, X):\n",
    "        return X[self.col_names]\n",
    "\n",
    "    def fit_transform(self, X, y=None, **fit_params):\n",
    "        self.fit(X, y)\n",
    "        return self.transform(X)"
   ]
  },
  {
   "cell_type": "code",
   "execution_count": 508,
   "metadata": {},
   "outputs": [],
   "source": [
    "class MulticlassEvaluator:\n",
    "\n",
    "    def __init__(self, pipeline):\n",
    "        self.pipeline = pipeline\n",
    "\n",
    "    def fit(self, X, y=None):\n",
    "        self.pipeline.fit(X, y)\n",
    "        return self\n",
    "\n",
    "    def transform(self, X):\n",
    "        return self.pipeline.transform(X)\n",
    "\n",
    "    def fit_transform(self, X, y=None, **fit_params):\n",
    "        return self.pipeline.fit_transform(X, y)\n",
    "\n",
    "    def fit_predict(self, X, y=None):\n",
    "        return self.pipeline.fit_predict(X, y)\n",
    "\n",
    "    def predict(self, X):\n",
    "        return self.pipeline.predict(X)\n",
    "\n",
    "    def evaluate(self, X, y, cv=3, labels=None, scoring='accuracy'):\n",
    "        y_pred = pipeline.predict(X)\n",
    "        conf_mx = confusion_matrix(y, y_pred, labels=labels)\n",
    "        plt.matshow(conf_mx, cmap=plt.cm.BrBG_r)\n",
    "        plt.show()\n",
    "        print(conf_mx)\n",
    "        scores = cross_val_score(pipeline, X, y, cv=cv, scoring=scoring)\n",
    "        print('CV Scores - ', scores)\n",
    "\n",
    "    def train_test_evaluate(self, X, y, test_size=0.2, random_state=None):\n",
    "        X_train, X_test, y_train, y_test = train_test_split(X, y, test_size=test_size, random_state=random_state)\n",
    "        self.fit(X_train, y_train)\n",
    "        self.evaluate(X_train, y_train)\n",
    "        self.evaluate(X_test, y_test)\n"
   ]
  },
  {
   "cell_type": "code",
   "execution_count": 509,
   "metadata": {},
   "outputs": [],
   "source": [
    "columns = ['alcohol', 'sulphates', 'citric acid', 'fixed acidity', 'chlorides', 'density',\n",
    "           'total sulfur dioxide', 'volatile acidity', 'above_avg', 'top_tier', 'bottom_tier', 'best', 'worst']\n"
   ]
  },
  {
   "cell_type": "code",
   "execution_count": 510,
   "metadata": {},
   "outputs": [],
   "source": [
    "pipeline = Pipeline([('col_adder', TierColumnAdder()), ('selector', ColumnSelector(\n",
    "    columns)), ('scaler', OneScaler()), ('poly', PolynomialFeatures(degree=2, include_bias=True)), ('estimator', RandomForestClassifier(random_state=42))])\n"
   ]
  },
  {
   "cell_type": "code",
   "execution_count": 511,
   "metadata": {},
   "outputs": [],
   "source": [
    "evaluator = MulticlassEvaluator(pipeline)"
   ]
  },
  {
   "cell_type": "code",
   "execution_count": 512,
   "metadata": {},
   "outputs": [
    {
     "data": {
      "image/png": "[encoded data removed]",
      "text/plain": [
       "<Figure size 288x288 with 1 Axes>"
      ]
     },
     "metadata": {
      "needs_background": "light"
     },
     "output_type": "display_data"
    },
    {
     "name": "stdout",
     "output_type": "stream",
     "text": [
      "[[  6   0   0   0   0   0]\n",
      " [  0  24   0   0   0   0]\n",
      " [  0   0 390   0   0   0]\n",
      " [  0   0   0 368   0   0]\n",
      " [  0   0   0   0 117   0]\n",
      " [  0   0   0   0   0   9]]\n",
      "CV Scores -  [1. 1. 1.]\n"
     ]
    },
    {
     "data": {
      "image/png": "[encoded data removed]",
      "text/plain": [
       "<Figure size 288x288 with 1 Axes>"
      ]
     },
     "metadata": {
      "needs_background": "light"
     },
     "output_type": "display_data"
    },
    {
     "name": "stdout",
     "output_type": "stream",
     "text": [
      "[[ 0  0  0  0  0  0]\n",
      " [ 9  0  0  0  0  0]\n",
      " [ 0  0 93  0  0  0]\n",
      " [ 0  0  0 94  0  0]\n",
      " [ 0  0  0  0 26  0]\n",
      " [ 0  0  0  0  0  7]]\n",
      "CV Scores -  [1. 1. 1.]\n"
     ]
    }
   ],
   "source": [
    "evaluator.train_test_evaluate(df, y_raw, test_size=0.2)"
   ]
  }
 ],
 "metadata": {
  "kernelspec": {
   "display_name": "Python 3.9 (ML)",
   "language": "python",
   "name": "ml"
  },
  "language_info": {
   "codemirror_mode": {
    "name": "ipython",
    "version": 3
   },
   "file_extension": ".py",
   "mimetype": "text/x-python",
   "name": "python",
   "nbconvert_exporter": "python",
   "pygments_lexer": "ipython3",
   "version": "3.9.7"
  },
  "orig_nbformat": 4
 },
 "nbformat": 4,
 "nbformat_minor": 2
}
